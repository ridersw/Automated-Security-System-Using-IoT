{
  "nbformat": 4,
  "nbformat_minor": 0,
  "metadata": {
    "colab": {
      "name": "Deep Learning- Sequential Model.ipynb",
      "provenance": [],
      "collapsed_sections": [],
      "authorship_tag": "ABX9TyMNh4+Bz74oi8A+lA7nAA+k",
      "include_colab_link": true
    },
    "kernelspec": {
      "name": "python3",
      "display_name": "Python 3"
    },
    "language_info": {
      "name": "python"
    }
  },
  "cells": [
    {
      "cell_type": "markdown",
      "metadata": {
        "id": "view-in-github",
        "colab_type": "text"
      },
      "source": [
        "<a href=\"https://colab.research.google.com/github/ridersw/Automated-Security-System-Using-IoT/blob/master/Deep_Learning_Sequential_Model.ipynb\" target=\"_parent\"><img src=\"https://colab.research.google.com/assets/colab-badge.svg\" alt=\"Open In Colab\"/></a>"
      ]
    },
    {
      "cell_type": "code",
      "execution_count": 48,
      "metadata": {
        "id": "sEPeJAwFDZSv"
      },
      "outputs": [],
      "source": [
        "%tensorflow_version 2.x\n",
        "\n",
        "import tensorflow as tf   \n",
        "from tensorflow import keras\n",
        "\n",
        "\n",
        "import numpy as np\n",
        "import matplotlib.pyplot as plt"
      ]
    },
    {
      "cell_type": "code",
      "source": [
        "fashion_mnist = keras.datasets.fashion_mnist #loading dataset\n",
        "\n",
        "(train_images, train_labels), (test_images, test_labels) = fashion_mnist.load_data() # split the data into training and testings"
      ],
      "metadata": {
        "id": "FswTks_ufeF0"
      },
      "execution_count": 49,
      "outputs": []
    },
    {
      "cell_type": "code",
      "source": [
        "train_images.shape"
      ],
      "metadata": {
        "colab": {
          "base_uri": "https://localhost:8080/"
        },
        "id": "JJTSnejRf6-S",
        "outputId": "dece9884-3497-4df0-9791-ee0aad6bbc6b"
      },
      "execution_count": 33,
      "outputs": [
        {
          "output_type": "execute_result",
          "data": {
            "text/plain": [
              "(60000, 28, 28)"
            ]
          },
          "metadata": {},
          "execution_count": 33
        }
      ]
    },
    {
      "cell_type": "code",
      "source": [
        "train_images[0,23,23] #look at one pixel, image 0th, 23rd row and 23rd column"
      ],
      "metadata": {
        "colab": {
          "base_uri": "https://localhost:8080/"
        },
        "id": "81GC7fPfgERn",
        "outputId": "68f2963f-49e5-4951-a8d6-a3a4763bece7"
      },
      "execution_count": 34,
      "outputs": [
        {
          "output_type": "execute_result",
          "data": {
            "text/plain": [
              "194"
            ]
          },
          "metadata": {},
          "execution_count": 34
        }
      ]
    },
    {
      "cell_type": "markdown",
      "source": [
        "The output we got above is the pixel value between 0 to 255, 0 being black and 255 being white. Since this is a grey scale image. "
      ],
      "metadata": {
        "id": "k_qHplkBgbO9"
      }
    },
    {
      "cell_type": "code",
      "source": [
        "train_labels[:10]"
      ],
      "metadata": {
        "colab": {
          "base_uri": "https://localhost:8080/"
        },
        "id": "frrNjI-Ag1nt",
        "outputId": "a02f8684-8be1-4af6-bda4-095a14e13106"
      },
      "execution_count": 35,
      "outputs": [
        {
          "output_type": "execute_result",
          "data": {
            "text/plain": [
              "array([9, 0, 0, 3, 0, 2, 7, 2, 5, 5], dtype=uint8)"
            ]
          },
          "metadata": {},
          "execution_count": 35
        }
      ]
    },
    {
      "cell_type": "markdown",
      "source": [
        "The labels are integers ranging between 0-9. Each integer represents a specific article of clothing. We will be creating an array of label names to indicate which is which."
      ],
      "metadata": {
        "id": "xO0lPrCug8CR"
      }
    },
    {
      "cell_type": "code",
      "source": [
        "class_names = ['T-shirt/ Top', 'Trousers','Pullover','Dress','Coat','Sandel','Shirt','Sneaker','Bag','Ankle Boot']"
      ],
      "metadata": {
        "id": "FdqMb0achMm5"
      },
      "execution_count": 50,
      "outputs": []
    },
    {
      "cell_type": "markdown",
      "source": [
        "Below are some of the images"
      ],
      "metadata": {
        "id": "8HajyamdhnsR"
      }
    },
    {
      "cell_type": "code",
      "source": [
        "plt.figure()\n",
        "plt.imshow(train_images[5])\n",
        "plt.colorbar()\n",
        "plt.grid(False)\n",
        "plt.show()"
      ],
      "metadata": {
        "colab": {
          "base_uri": "https://localhost:8080/",
          "height": 265
        },
        "id": "umZn8hgvhZZr",
        "outputId": "eff7b687-2e5c-4d78-db1c-184896357a73"
      },
      "execution_count": 37,
      "outputs": [
        {
          "output_type": "display_data",
          "data": {
            "image/png": "[encoded data removed]",
            "text/plain": [
              "<Figure size 432x288 with 2 Axes>"
            ]
          },
          "metadata": {
            "needs_background": "light"
          }
        }
      ]
    },
    {
      "cell_type": "markdown",
      "source": [
        "Data Preprocessing- Always preprocess the data and get the values between either 0 to 1 or -1 to 1."
      ],
      "metadata": {
        "id": "ukXoyTC3iJho"
      }
    },
    {
      "cell_type": "code",
      "source": [
        "train_images = train_images / 255.0\n",
        "test_images = test_images / 255.0\n",
        "\n"
      ],
      "metadata": {
        "id": "4OMeb5BJiF8Q"
      },
      "execution_count": 51,
      "outputs": []
    },
    {
      "cell_type": "code",
      "source": [
        "#model- dfined the architecture of our neural network: defined amount of neurons in each layer, activation layer, type of layer and type of connection\n",
        "\n",
        "model = keras.Sequential([keras.layers.Flatten(input_shape=(28, 28)), #input layer\n",
        "                          keras.layers.Dense(128, activation='relu'), #hidden layer\n",
        "                          keras.layers.Dense(10, activation='softmax')]) #output layer. Here the output neuron are specified as 10 bcoz we have 10 different outputs\n"
      ],
      "metadata": {
        "id": "4Xj_svCNkv8A"
      },
      "execution_count": 52,
      "outputs": []
    },
    {
      "cell_type": "code",
      "source": [
        "#compiling the model- Pick optimizer, loss and metric we are interested in \n",
        "\n",
        "model.compile(optimizer='adam',\n",
        "              loss='sparse_categorical_crossentropy',\n",
        "              metrics=['accuracy'])"
      ],
      "metadata": {
        "id": "f4m0E5oTlUWf"
      },
      "execution_count": 53,
      "outputs": []
    },
    {
      "cell_type": "code",
      "source": [
        "model.fit(train_images, train_labels, epochs = 8)"
      ],
      "metadata": {
        "colab": {
          "base_uri": "https://localhost:8080/"
        },
        "id": "qm1Yhvq_l4jn",
        "outputId": "291d256a-5a61-476a-952d-2729b2e31bfd"
      },
      "execution_count": 56,
      "outputs": [
        {
          "output_type": "stream",
          "name": "stdout",
          "text": [
            "Epoch 1/8\n",
            "1875/1875 [==============================] - 4s 2ms/step - loss: 0.2330 - accuracy: 0.9125\n",
            "Epoch 2/8\n",
            "1875/1875 [==============================] - 5s 2ms/step - loss: 0.2237 - accuracy: 0.9156\n",
            "Epoch 3/8\n",
            "1875/1875 [==============================] - 4s 2ms/step - loss: 0.2173 - accuracy: 0.9196\n",
            "Epoch 4/8\n",
            "1875/1875 [==============================] - 4s 2ms/step - loss: 0.2116 - accuracy: 0.9208\n",
            "Epoch 5/8\n",
            "1875/1875 [==============================] - 4s 2ms/step - loss: 0.2040 - accuracy: 0.9231\n",
            "Epoch 6/8\n",
            "1875/1875 [==============================] - 4s 2ms/step - loss: 0.1973 - accuracy: 0.9247\n",
            "Epoch 7/8\n",
            "1875/1875 [==============================] - 4s 2ms/step - loss: 0.1926 - accuracy: 0.9277\n",
            "Epoch 8/8\n",
            "1875/1875 [==============================] - 4s 2ms/step - loss: 0.1872 - accuracy: 0.9299\n"
          ]
        },
        {
          "output_type": "execute_result",
          "data": {
            "text/plain": [
              "<keras.callbacks.History at 0x7f6d6c2214d0>"
            ]
          },
          "metadata": {},
          "execution_count": 56
        }
      ]
    },
    {
      "cell_type": "code",
      "source": [
        "test_loss, test_acc = model.evaluate(test_images, test_labels, verbose=1)\n",
        "print(f'Test Accuracy: {test_acc}')"
      ],
      "metadata": {
        "colab": {
          "base_uri": "https://localhost:8080/"
        },
        "id": "Y-xlDowXmx-c",
        "outputId": "243f0c61-6dc6-4bdd-fbd1-d5fc02c91bbb"
      },
      "execution_count": 57,
      "outputs": [
        {
          "output_type": "stream",
          "name": "stdout",
          "text": [
            "313/313 [==============================] - 1s 2ms/step - loss: 0.3493 - accuracy: 0.8857\n",
            "Test Accuracy: 0.885699987411499\n"
          ]
        }
      ]
    }
  ]
}